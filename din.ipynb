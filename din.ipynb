{
 "cells": [
  {
   "cell_type": "code",
   "execution_count": 3,
   "metadata": {},
   "outputs": [
    {
     "name": "stderr",
     "output_type": "stream",
     "text": [
      "<ipython-input-3-b8e56c1640af>:5: DeprecationWarning: executable_path has been deprecated, please pass in a Service object\n",
      "  driver = webdriver.Firefox(executable_path=\"geckodriver.exe\")\n"
     ]
    }
   ],
   "source": [
    "from selenium import webdriver\n",
    "from selenium.webdriver.common.keys import Keys\n",
    "import time\n",
    "\n",
    "driver = webdriver.Firefox(executable_path=\"geckodriver.exe\")"
   ]
  },
  {
   "cell_type": "code",
   "execution_count": 4,
   "metadata": {},
   "outputs": [
    {
     "name": "stderr",
     "output_type": "stream",
     "text": [
      "<ipython-input-4-135ba37168e6>:2: DeprecationWarning: find_element_by_* commands are deprecated. Please use find_element() instead\n",
      "  input_field = driver.find_element_by_id(\"DIN\")\n",
      "<ipython-input-4-135ba37168e6>:4: DeprecationWarning: find_element_by_* commands are deprecated. Please use find_element() instead\n",
      "  submit = driver.find_element_by_id(\"enquireDIN_0\")\n"
     ]
    }
   ],
   "source": [
    "driver.get(\"https://www.mca.gov.in/mcafoportal/showEnquireDIN.do\")\n",
    "input_field = driver.find_element_by_id(\"DIN\")\n",
    "input_field.send_keys(\"08479774\")\n",
    "submit = driver.find_element_by_id(\"enquireDIN_0\")\n",
    "submit.submit()"
   ]
  },
  {
   "cell_type": "code",
   "execution_count": 5,
   "metadata": {},
   "outputs": [
    {
     "name": "stderr",
     "output_type": "stream",
     "text": [
      "<ipython-input-5-008912e6a263>:1: DeprecationWarning: find_element_by_* commands are deprecated. Please use find_element() instead\n",
      "  table_id = driver.find_element_by_id(\"enquireDINDetailsId\")\n"
     ]
    }
   ],
   "source": [
    "table_id = driver.find_element_by_id(\"enquireDINDetailsId\")"
   ]
  },
  {
   "cell_type": "code",
   "execution_count": 6,
   "metadata": {},
   "outputs": [
    {
     "name": "stdout",
     "output_type": "stream",
     "text": [
      "DIN Details\n",
      "DIN 08479774\n",
      "Director Name MOHAMMAD SHAFI\n",
      "DIN Status Approved\n",
      "Director of ACTIVE non-compliant company\n",
      "Date of Approval (if DIN status is active) 12/06/2019\n"
     ]
    }
   ],
   "source": [
    "print(table_id.text)"
   ]
  },
  {
   "cell_type": "code",
   "execution_count": null,
   "metadata": {},
   "outputs": [],
   "source": []
  }
 ],
 "metadata": {
  "interpreter": {
   "hash": "3de2d02b11921545bf1816bc45552ddc366ed99bb60e73ad62fb9cbd6f53e5b0"
  },
  "kernelspec": {
   "display_name": "Python 3 (ipykernel)",
   "language": "python",
   "name": "python3"
  },
  "language_info": {
   "codemirror_mode": {
    "name": "ipython",
    "version": 3
   },
   "file_extension": ".py",
   "mimetype": "text/x-python",
   "name": "python",
   "nbconvert_exporter": "python",
   "pygments_lexer": "ipython3",
   "version": "3.9.7"
  }
 },
 "nbformat": 4,
 "nbformat_minor": 2
}
