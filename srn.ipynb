{
 "cells": [
  {
   "cell_type": "code",
   "execution_count": 2,
   "metadata": {},
   "outputs": [
    {
     "name": "stderr",
     "output_type": "stream",
     "text": [
      "<ipython-input-2-dc173d636c4d>:5: DeprecationWarning: executable_path has been deprecated, please pass in a Service object\n",
      "  driver = webdriver.Firefox(executable_path=\"C:\\\\Users\\\\gurvi\\\\OneDrive\\\\Desktop\\\\akif dad\\\\geckodriver.exe\")\n"
     ]
    }
   ],
   "source": [
    "from selenium import webdriver\n",
    "from selenium.webdriver.common.keys import Keys\n",
    "import time\n",
    "\n",
    "driver = webdriver.Firefox(executable_path=\"geckodriver.exe\")"
   ]
  },
  {
   "cell_type": "code",
   "execution_count": 2,
   "metadata": {},
   "outputs": [],
   "source": [
    "driver.get(\"https://www.mca.gov.in/mcafoportal/trackPaymentStatus.do\")"
   ]
  },
  {
   "cell_type": "code",
   "execution_count": 3,
   "metadata": {},
   "outputs": [
    {
     "name": "stderr",
     "output_type": "stream",
     "text": [
      "<ipython-input-3-e969f0eaffdb>:1: DeprecationWarning: find_element_by_* commands are deprecated. Please use find_element() instead\n",
      "  input_field = driver.find_element_by_id(\"srn\")\n",
      "<ipython-input-3-e969f0eaffdb>:3: DeprecationWarning: find_element_by_* commands are deprecated. Please use find_element() instead\n",
      "  submit = driver.find_element_by_id(\"trackPaymentStatus_0\")\n"
     ]
    }
   ],
   "source": [
    "input_field = driver.find_element_by_id(\"srn\")\n",
    "input_field.send_keys(\"T38324786\")\n",
    "submit = driver.find_element_by_id(\"trackPaymentStatus_0\")\n",
    "submit.submit()"
   ]
  },
  {
   "cell_type": "code",
   "execution_count": 5,
   "metadata": {},
   "outputs": [
    {
     "name": "stdout",
     "output_type": "stream",
     "text": [
      "Payment Status: Paid on 28-08-2021\n"
     ]
    },
    {
     "name": "stderr",
     "output_type": "stream",
     "text": [
      "<ipython-input-5-46532e1ecf61>:1: DeprecationWarning: find_element_by_* commands are deprecated. Please use find_element() instead\n",
      "  table_id = driver.find_element_by_id(\"srnDetailsTab1\")\n",
      "C:\\Users\\gurvi\\anaconda3\\lib\\site-packages\\selenium\\webdriver\\remote\\webelement.py:358: UserWarning: find_elements_by_* commands are deprecated. Please use find_elements() instead\n",
      "  warnings.warn(\"find_elements_by_* commands are deprecated. Please use find_elements() instead\")\n",
      "C:\\Users\\gurvi\\anaconda3\\lib\\site-packages\\selenium\\webdriver\\remote\\webelement.py:340: UserWarning: find_element_by_* commands are deprecated. Please use find_element() instead\n",
      "  warnings.warn(\"find_element_by_* commands are deprecated. Please use find_element() instead\")\n"
     ]
    }
   ],
   "source": [
    "table_id = driver.find_element_by_id(\"srnDetailsTab1\")\n",
    "rows = table_id.find_elements_by_tag_name(\"tr\")\n",
    "for row in rows:\n",
    "    cell = row.find_element_by_tag_name(\"td\")\n",
    "    print(cell.text)"
   ]
  },
  {
   "cell_type": "code",
   "execution_count": 8,
   "metadata": {},
   "outputs": [
    {
     "name": "stderr",
     "output_type": "stream",
     "text": [
      "<ipython-input-8-019d675def00>:1: DeprecationWarning: find_element_by_* commands are deprecated. Please use find_element() instead\n",
      "  form_table = driver.find_element_by_id(\"srnDetailsTab2\")\n"
     ]
    }
   ],
   "source": [
    "form_table = driver.find_element_by_id(\"srnDetailsTab2\")\n",
    "eform = form_table.find_elements(\"tag name\",\"tr\")\n",
    "for i in eform:\n",
    "    cell = i.find_element(\"tag name\",\"td\")\n",
    "    cell.click()\n",
    "    time.sleep(5)\n",
    "    \n"
   ]
  },
  {
   "cell_type": "code",
   "execution_count": null,
   "metadata": {},
   "outputs": [],
   "source": []
  },
  {
   "cell_type": "code",
   "execution_count": null,
   "metadata": {},
   "outputs": [],
   "source": []
  },
  {
   "cell_type": "code",
   "execution_count": null,
   "metadata": {},
   "outputs": [],
   "source": []
  },
  {
   "cell_type": "code",
   "execution_count": null,
   "metadata": {},
   "outputs": [],
   "source": []
  }
 ],
 "metadata": {
  "interpreter": {
   "hash": "3de2d02b11921545bf1816bc45552ddc366ed99bb60e73ad62fb9cbd6f53e5b0"
  },
  "kernelspec": {
   "display_name": "Python 3 (ipykernel)",
   "language": "python",
   "name": "python3"
  },
  "language_info": {
   "codemirror_mode": {
    "name": "ipython",
    "version": 3
   },
   "file_extension": ".py",
   "mimetype": "text/x-python",
   "name": "python",
   "nbconvert_exporter": "python",
   "pygments_lexer": "ipython3",
   "version": "3.9.7"
  }
 },
 "nbformat": 4,
 "nbformat_minor": 2
}
